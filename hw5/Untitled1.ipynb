{
 "cells": [
  {
   "cell_type": "code",
   "execution_count": 1,
   "metadata": {},
   "outputs": [
    {
     "name": "stdout",
     "output_type": "stream",
     "text": [
      "Populating the interactive namespace from numpy and matplotlib\n"
     ]
    }
   ],
   "source": [
    "%pylab inline"
   ]
  },
  {
   "cell_type": "code",
   "execution_count": 2,
   "metadata": {},
   "outputs": [
    {
     "name": "stderr",
     "output_type": "stream",
     "text": [
      "/usr/lib64/python3.6/site-packages/sklearn/cross_validation.py:41: DeprecationWarning: This module was deprecated in version 0.18 in favor of the model_selection module into which all the refactored classes and functions are moved. Also note that the interface of the new CV iterators are different from that of this module. This module will be removed in 0.20.\n",
      "  \"This module will be removed in 0.20.\", DeprecationWarning)\n",
      "Using TensorFlow backend.\n"
     ]
    }
   ],
   "source": [
    "import pandas\n",
    "import os\n",
    "import zipfile\n",
    "import requests\n",
    "#import tqdm\n",
    "from sklearn import dummy, metrics, cross_validation, ensemble\n",
    "\n",
    "import keras.models as kmodels\n",
    "import keras.layers as klayers\n",
    "import keras.backend as K\n",
    "import keras"
   ]
  },
  {
   "cell_type": "code",
   "execution_count": 3,
   "metadata": {},
   "outputs": [],
   "source": [
    "# Download the dataset. It's small, only about 6 MB.\n",
    "if not os.path.exists('./ml-1m'):\n",
    "    url = 'http://files.grouplens.org/datasets/movielens/ml-1m.zip'\n",
    "    response = requests.get(url, stream=True)\n",
    "    total_length = response.headers.get('content-length')\n",
    "    #bar = tqdm.tqdm_notebook(total=int(total_length))\n",
    "    with open('./ml-1m.zip', 'wb') as f:\n",
    "        for data in response.iter_content(chunk_size=4096):\n",
    "            f.write(data)\n",
    "            #bar.update(4096)\n",
    "    zip_ref = zipfile.ZipFile('./ml-1m.zip', 'r')\n",
    "    zip_ref.extractall('.')\n",
    "    zip_ref.close()"
   ]
  },
  {
   "cell_type": "code",
   "execution_count": 28,
   "metadata": {},
   "outputs": [
    {
     "name": "stdout",
     "output_type": "stream",
     "text": [
      "userid\n",
      "1        1\n",
      "2       56\n",
      "3       25\n",
      "4       45\n",
      "5       25\n",
      "6       50\n",
      "7       35\n",
      "8       25\n",
      "9       25\n",
      "10      35\n",
      "11      25\n",
      "12      25\n",
      "13      45\n",
      "14      35\n",
      "15      25\n",
      "16      35\n",
      "17      50\n",
      "18      18\n",
      "19       1\n",
      "20      25\n",
      "21      18\n",
      "22      18\n",
      "23      35\n",
      "24      25\n",
      "25      18\n",
      "26      25\n",
      "27      25\n",
      "28      25\n",
      "29      35\n",
      "30      35\n",
      "        ..\n",
      "6011    35\n",
      "6012    35\n",
      "6013    25\n",
      "6014    45\n",
      "6015    25\n",
      "6016    45\n",
      "6017    35\n",
      "6018    35\n",
      "6019    25\n",
      "6020    50\n",
      "6021    25\n",
      "6022    25\n",
      "6023    25\n",
      "6024    25\n",
      "6025    25\n",
      "6026    35\n",
      "6027    18\n",
      "6028    18\n",
      "6029    25\n",
      "6030    25\n",
      "6031    18\n",
      "6032    45\n",
      "6033    50\n",
      "6034    25\n",
      "6035    25\n",
      "6036    25\n",
      "6037    45\n",
      "6038    56\n",
      "6039    45\n",
      "6040    25\n",
      "Name: age, Length: 6040, dtype: int64\n",
      "userid\n",
      "1        1\n",
      "2       56\n",
      "3       25\n",
      "4       45\n",
      "5       25\n",
      "6       50\n",
      "7       35\n",
      "8       25\n",
      "9       25\n",
      "10      35\n",
      "11      25\n",
      "12      25\n",
      "13      45\n",
      "14      35\n",
      "15      25\n",
      "16      35\n",
      "17      50\n",
      "18      18\n",
      "19       1\n",
      "20      25\n",
      "21      18\n",
      "22      18\n",
      "23      35\n",
      "24      25\n",
      "25      18\n",
      "26      25\n",
      "27      25\n",
      "28      25\n",
      "29      35\n",
      "30      35\n",
      "        ..\n",
      "6011    35\n",
      "6012    35\n",
      "6013    25\n",
      "6014    45\n",
      "6015    25\n",
      "6016    45\n",
      "6017    35\n",
      "6018    35\n",
      "6019    25\n",
      "6020    50\n",
      "6021    25\n",
      "6022    25\n",
      "6023    25\n",
      "6024    25\n",
      "6025    25\n",
      "6026    35\n",
      "6027    18\n",
      "6028    18\n",
      "6029    25\n",
      "6030    25\n",
      "6031    18\n",
      "6032    45\n",
      "6033    50\n",
      "6034    25\n",
      "6035    25\n",
      "6036    25\n",
      "6037    45\n",
      "6038    56\n",
      "6039    45\n",
      "6040    25\n",
      "Name: age, Length: 6040, dtype: category\n",
      "Categories (7, int64): [1, 18, 25, 35, 45, 50, 56]\n",
      "        userid movieid  rating  timestamp\n",
      "0            1    1193       5  978300760\n",
      "1            1     661       3  978302109\n",
      "2            1     914       3  978301968\n",
      "3            1    3408       4  978300275\n",
      "4            1    2355       5  978824291\n",
      "5            1    1197       3  978302268\n",
      "6            1    1287       5  978302039\n",
      "7            1    2804       5  978300719\n",
      "8            1     594       4  978302268\n",
      "9            1     919       4  978301368\n",
      "10           1     595       5  978824268\n",
      "11           1     938       4  978301752\n",
      "12           1    2398       4  978302281\n",
      "13           1    2918       4  978302124\n",
      "14           1    1035       5  978301753\n",
      "15           1    2791       4  978302188\n",
      "16           1    2687       3  978824268\n",
      "17           1    2018       4  978301777\n",
      "18           1    3105       5  978301713\n",
      "19           1    2797       4  978302039\n",
      "20           1    2321       3  978302205\n",
      "21           1     720       3  978300760\n",
      "22           1    1270       5  978300055\n",
      "23           1     527       5  978824195\n",
      "24           1    2340       3  978300103\n",
      "25           1      48       5  978824351\n",
      "26           1    1097       4  978301953\n",
      "27           1    1721       4  978300055\n",
      "28           1    1545       4  978824139\n",
      "29           1     745       3  978824268\n",
      "...        ...     ...     ...        ...\n",
      "1000179   6040    2762       4  956704584\n",
      "1000180   6040    1036       3  956715455\n",
      "1000181   6040     508       4  956704972\n",
      "1000182   6040    1041       4  957717678\n",
      "1000183   6040    3735       4  960971654\n",
      "1000184   6040    2791       4  956715569\n",
      "1000185   6040    2794       1  956716438\n",
      "1000186   6040     527       5  956704219\n",
      "1000187   6040    2003       1  956716294\n",
      "1000188   6040     535       4  964828734\n",
      "1000189   6040    2010       5  957716795\n",
      "1000190   6040    2011       4  956716113\n",
      "1000191   6040    3751       4  964828782\n",
      "1000192   6040    2019       5  956703977\n",
      "1000193   6040     541       4  956715288\n",
      "1000194   6040    1077       5  964828799\n",
      "1000195   6040    1079       2  956715648\n",
      "1000196   6040     549       4  956704746\n",
      "1000197   6040    2020       3  956715288\n",
      "1000198   6040    2021       3  956716374\n",
      "1000199   6040    2022       5  956716207\n",
      "1000200   6040    2028       5  956704519\n",
      "1000201   6040    1080       4  957717322\n",
      "1000202   6040    1089       4  956704996\n",
      "1000203   6040    1090       3  956715518\n",
      "1000204   6040    1091       1  956716541\n",
      "1000205   6040    1094       5  956704887\n",
      "1000206   6040     562       5  956704746\n",
      "1000207   6040    1096       4  956715648\n",
      "1000208   6040    1097       4  956715569\n",
      "\n",
      "[1000209 rows x 4 columns]\n"
     ]
    }
   ],
   "source": [
    "# Read in the dataset, and do a little preprocessing,\n",
    "# mostly to set the column datatypes.\n",
    "users = pandas.read_csv('./ml-1m/users.dat', sep='::', \n",
    "                        engine='python', \n",
    "                        names=['userid', 'gender', 'age', 'occupation', 'zip']).set_index('userid')\n",
    "ratings = pandas.read_csv('./ml-1m/ratings.dat', engine='python', \n",
    "                          sep='::', names=['userid', 'movieid', 'rating', 'timestamp'])\n",
    "movies = pandas.read_csv('./ml-1m/movies.dat', engine='python',\n",
    "                         sep='::', names=['movieid', 'title', 'genre']).set_index('movieid')\n",
    "movies['genre'] = movies.genre.str.split('|')\n",
    "print (users.age)\n",
    "users.age = users.age.astype('category')\n",
    "users.gender = users.gender.astype('category')\n",
    "users.occupation = users.occupation.astype('category')\n",
    "ratings.movieid = ratings.movieid.astype('category')\n",
    "ratings.userid = ratings.userid.astype('category')\n",
    "\n",
    "print (users.age)\n",
    "print (ratings)"
   ]
  },
  {
   "cell_type": "code",
   "execution_count": 25,
   "metadata": {},
   "outputs": [
    {
     "name": "stdout",
     "output_type": "stream",
     "text": [
      "(1000209,)\n",
      "(1000209,)\n",
      "3883\n",
      "6040\n"
     ]
    }
   ],
   "source": [
    "\n",
    "# Count the movies and users\n",
    "n_movies = movies.shape[0]\n",
    "n_users = users.shape[0]\n",
    "\n",
    "# Also, make vectors of all the movie ids and user ids. These are\n",
    "# pandas categorical data, so they range from 1 to n_movies and 1 to n_users, respectively.\n",
    "movieid = ratings.movieid.cat.codes.values\n",
    "userid = ratings.userid.cat.codes.values\n",
    "\n",
    "print (movieid.shape)\n",
    "print (userid.shape)\n",
    "\n",
    "print (n_movies)\n",
    "print (n_users)"
   ]
  },
  {
   "cell_type": "code",
   "execution_count": 26,
   "metadata": {},
   "outputs": [
    {
     "name": "stdout",
     "output_type": "stream",
     "text": [
      "(1000209, 5)\n",
      "[[ 0.  0.  0.  0.  1.]\n",
      " [ 0.  0.  1.  0.  0.]\n",
      " [ 0.  0.  1.  0.  0.]\n",
      " ..., \n",
      " [ 0.  0.  0.  0.  1.]\n",
      " [ 0.  0.  0.  1.  0.]\n",
      " [ 0.  0.  0.  1.  0.]]\n"
     ]
    }
   ],
   "source": [
    "# And finally, set up a y variable with the rating,\n",
    "# as a one-hot encoded matrix.\n",
    "#\n",
    "# note the '- 1' for the rating. That's because ratings\n",
    "# go from 1 to 5, while the matrix columns go from 0 to 4\n",
    "\n",
    "y = np.zeros((ratings.shape[0], 5))\n",
    "print (y.shape)\n",
    "y[np.arange(ratings.shape[0]), ratings.rating - 1] = 1\n",
    "print (y)"
   ]
  },
  {
   "cell_type": "code",
   "execution_count": 7,
   "metadata": {},
   "outputs": [
    {
     "name": "stdout",
     "output_type": "stream",
     "text": [
      "0.870960969157\n"
     ]
    }
   ],
   "source": [
    "# Dummy classifier! Just see how well stupid can do.\n",
    "pred = dummy.DummyClassifier(strategy='prior')\n",
    "pred.fit(ratings[['userid', 'movieid']], ratings.rating)\n",
    "\n",
    "print(metrics.mean_absolute_error(ratings.rating, pred.predict(ratings[['userid', 'movieid']])))"
   ]
  },
  {
   "cell_type": "code",
   "execution_count": 8,
   "metadata": {},
   "outputs": [
    {
     "name": "stderr",
     "output_type": "stream",
     "text": [
      "/usr/lib/python3.6/site-packages/ipykernel_launcher.py:18: UserWarning: The `merge` function is deprecated and will be removed after 08/2017. Use instead layers from `keras.layers.merge`, e.g. `add`, `concatenate`, etc.\n",
      "/usr/lib64/python3.6/site-packages/keras/legacy/layers.py:458: UserWarning: The `Merge` layer is deprecated and will be removed after 08/2017. Use instead layers from `keras.layers.merge`, e.g. `add`, `concatenate`, etc.\n",
      "  name=name)\n"
     ]
    }
   ],
   "source": [
    "# Now, the deep learning classifier\n",
    "\n",
    "# First, we take the movie and vectorize it.\n",
    "# The embedding layer is normally used for sequences (think, sequences of words)\n",
    "# so we need to flatten it out.\n",
    "# The dropout layer is also important in preventing overfitting\n",
    "-"
   ]
  },
  {
   "cell_type": "code",
   "execution_count": 9,
   "metadata": {},
   "outputs": [],
   "source": [
    "# Split the data into train and test sets...\n",
    "a_movieid, b_movieid, a_userid, b_userid, a_y, b_y = cross_validation.train_test_split(movieid, userid, y)"
   ]
  },
  {
   "cell_type": "code",
   "execution_count": 11,
   "metadata": {},
   "outputs": [
    {
     "data": {
      "text/plain": [
       "1.5694312805685195"
      ]
     },
     "execution_count": 11,
     "metadata": {},
     "output_type": "execute_result"
    }
   ],
   "source": [
    "\n",
    "# And of _course_ we need to make sure we're improving, so we find the MAE before\n",
    "# training at all.\n",
    "metrics.mean_absolute_error(np.argmax(b_y, 1)+1, np.argmax(model.predict([b_movieid, b_userid]), 1)+1)"
   ]
  },
  {
   "cell_type": "code",
   "execution_count": 32,
   "metadata": {},
   "outputs": [
    {
     "name": "stdout",
     "output_type": "stream",
     "text": [
      "Train on 750156 samples, validate on 250053 samples\n",
      "Epoch 1/20\n",
      "  3072/750156 [..............................] - ETA: 30s - loss: 1.3688"
     ]
    },
    {
     "name": "stderr",
     "output_type": "stream",
     "text": [
      "/usr/lib/python3.6/site-packages/ipykernel_launcher.py:5: UserWarning: The `nb_epoch` argument in `fit` has been renamed `epochs`.\n",
      "  \"\"\"\n"
     ]
    },
    {
     "name": "stdout",
     "output_type": "stream",
     "text": [
      "750156/750156 [==============================] - 31s - loss: 1.3404 - val_loss: 1.3732\n",
      "Epoch 2/20\n",
      "750156/750156 [==============================] - 31s - loss: 1.3078 - val_loss: 1.3318\n",
      "Epoch 3/20\n",
      "750156/750156 [==============================] - 31s - loss: 1.2862 - val_loss: 1.3015\n",
      "Epoch 4/20\n",
      "750156/750156 [==============================] - 31s - loss: 1.2683 - val_loss: 1.2725\n",
      "Epoch 5/20\n",
      "750156/750156 [==============================] - 30s - loss: 1.2538 - val_loss: 1.2561\n",
      "Epoch 6/20\n",
      "750156/750156 [==============================] - 29s - loss: 1.2430 - val_loss: 1.2478\n",
      "Epoch 7/20\n",
      "750156/750156 [==============================] - 30s - loss: 1.2365 - val_loss: 1.2381\n",
      "Epoch 8/20\n",
      "750156/750156 [==============================] - 30s - loss: 1.2301 - val_loss: 1.2303\n",
      "Epoch 9/20\n",
      "750156/750156 [==============================] - 30s - loss: 1.2249 - val_loss: 1.2253\n",
      "Epoch 10/20\n",
      "750156/750156 [==============================] - 31s - loss: 1.2215 - val_loss: 1.2167\n",
      "Epoch 11/20\n",
      "750156/750156 [==============================] - 31s - loss: 1.2181 - val_loss: 1.2173\n",
      "Epoch 12/20\n",
      "750156/750156 [==============================] - 29s - loss: 1.2149 - val_loss: 1.2180\n",
      "Epoch 13/20\n",
      "750156/750156 [==============================] - 29s - loss: 1.2128 - val_loss: 1.2109\n",
      "Epoch 14/20\n",
      "750156/750156 [==============================] - 29s - loss: 1.2100 - val_loss: 1.2071\n",
      "Epoch 15/20\n",
      "750156/750156 [==============================] - 29s - loss: 1.2084 - val_loss: 1.2096\n",
      "Epoch 16/20\n",
      "750156/750156 [==============================] - 29s - loss: 1.2069 - val_loss: 1.2072\n",
      "Epoch 17/20\n",
      "750156/750156 [==============================] - 29s - loss: 1.2060 - val_loss: 1.2035\n",
      "Epoch 18/20\n",
      "750156/750156 [==============================] - 29s - loss: 1.2040 - val_loss: 1.2040\n",
      "Epoch 19/20\n",
      "750156/750156 [==============================] - 28s - loss: 1.2031 - val_loss: 1.2053\n",
      "Epoch 20/20\n",
      "750156/750156 [==============================] - 28s - loss: 1.2014 - val_loss: 1.2038\n"
     ]
    },
    {
     "data": {
      "image/png": "[encoded data removed]",
      "text/plain": [
       "<matplotlib.figure.Figure at 0x7f13268d2550>"
      ]
     },
     "metadata": {},
     "output_type": "display_data"
    }
   ],
   "source": [
    "try:\n",
    "    history = model.fit([a_movieid, a_userid], a_y, \n",
    "                         nb_epoch=20,\n",
    "                         batch_size=1024,\n",
    "                         validation_data=([b_movieid, b_userid], b_y))\n",
    "    plot(history.history['loss'])\n",
    "    plot(history.history['val_loss'])\n",
    "except KeyboardInterrupt:\n",
    "    pass"
   ]
  },
  {
   "cell_type": "code",
   "execution_count": null,
   "metadata": {},
   "outputs": [],
   "source": [
    "\n",
    "# This is the number that matters. It's the held out \n",
    "# test set score. Note the + 1, because np.argmax will\n",
    "# go from 0 to 4, while our ratings go 1 to 5.\n",
    "metrics.mean_absolute_error(\n",
    "    np.argmax(b_y, 1)+1, \n",
    "    np.argmax(model.predict([b_movieid, b_userid]), 1)+1)"
   ]
  },
  {
   "cell_type": "code",
   "execution_count": null,
   "metadata": {},
   "outputs": [],
   "source": [
    "# For comparison's sake, here's the score on the training set.\n",
    "metrics.mean_absolute_error(\n",
    "    np.argmax(a_y, 1)+1, \n",
    "    np.argmax(model.predict([a_movieid, a_userid]), 1)+1)"
   ]
  }
 ],
 "metadata": {
  "kernelspec": {
   "display_name": "Python 3",
   "language": "python",
   "name": "python3"
  },
  "language_info": {
   "codemirror_mode": {
    "name": "ipython",
    "version": 3
   },
   "file_extension": ".py",
   "mimetype": "text/x-python",
   "name": "python",
   "nbconvert_exporter": "python",
   "pygments_lexer": "ipython3",
   "version": "3.6.3"
  }
 },
 "nbformat": 4,
 "nbformat_minor": 2
}
